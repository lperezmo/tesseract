{
 "cells": [
  {
   "cell_type": "code",
   "execution_count": 1,
   "metadata": {},
   "outputs": [],
   "source": [
    "import cv2\n",
    "import pytesseract\n",
    "from pynput.keyboard import Key, Controller\n",
    "import time\n",
    "from webbot import Browser \n",
    "import pyautogui\n",
    "import tkinter as tk\n",
    "import pyautogui\n",
    "import random\n",
    "import numpy as np\n",
    "pytesseract.pytesseract.tesseract_cmd = r'C:\\\\Program Files\\\\Tesseract-OCR\\\\tesseract.exe'\n",
    "\n",
    "def set_up(text):\n",
    "    length = len(text)\n",
    "    num_chunks = 12\n",
    "    start_points = random.choices(range(length), k=11)\n",
    "    start_points.append(0)\n",
    "    start_points.append(length)\n",
    "    start_points.sort()\n",
    "    weights = [0.176, 0.20799999999999996, 0.154, 0.132, 0.11, 0.088, 0.066, 0.044, 0.022]\n",
    "    weights.reverse()\n",
    "    speeds = random.choices(range(3,12), weights=weights, k=14)\n",
    "    speeds = np.array(speeds)\n",
    "    speeds = speeds/100\n",
    "    return num_chunks, start_points, speeds"
   ]
  },
  {
   "cell_type": "markdown",
   "metadata": {},
   "source": [
    "# Use instructions\n",
    "1. Run the two cells above (importing packages & defining a useful function)\n",
    "2. Run the cell below just as a race is about to start, it'll do the rest. If something fails, just exit the race and try again, incomplete races are not included in the final stats\n",
    "2. Laugh at the world"
   ]
  },
  {
   "cell_type": "code",
   "execution_count": 2,
   "metadata": {},
   "outputs": [],
   "source": [
    "# Fixing location, adding a \"top\" limit\n",
    "if pyautogui.locateOnScreen('screenshots/top_of_the_text_box_v2.PNG'):\n",
    "    top_limit = pyautogui.locateOnScreen('screenshots/top_of_the_text_box_v2.PNG')\n",
    "elif pyautogui.locateOnScreen('screenshots/top_of_the_text_box_v3.PNG'):\n",
    "    top_limit = pyautogui.locateOnScreen('screenshots/top_of_the_text_box_v3.PNG')\n",
    "\n",
    "# Finding typing box\n",
    "if pyautogui.locateOnScreen('screenshots/box3.PNG'):\n",
    "    typing_box = pyautogui.locateOnScreen('screenshots/box3.PNG')\n",
    "elif pyautogui.locateOnScreen('screenshots/type_box_v2.PNG'):\n",
    "    typing_box = pyautogui.locateOnScreen('screenshots/type_box_v2.PNG')\n",
    "\n",
    "# Calculate coordinates of screenshot\n",
    "new_left = typing_box[0]\n",
    "new_top = top_limit[1] + 10\n",
    "new_width = typing_box[2]\n",
    "new_height = typing_box[1] - top_limit[1] - 15\n",
    "good_coords = [new_left, new_top, new_width, new_height]\n",
    "\n",
    "# Take screenshot\n",
    "image_text = pyautogui.screenshot(region=good_coords)\n",
    "image_text.save(r'screenshots/good_coords.png')\n",
    "\n",
    "# Read the text from the image and replace weird characters\n",
    "img = cv2.imread('screenshots/good_coords.png')\n",
    "text = pytesseract.image_to_string(img)\n",
    "text = text.replace('\\n', ' ')\n",
    "text = text.replace('|', 'I')\n",
    "text = text.replace('’', '\\'')\n",
    "text = text.replace('‘', '')\n",
    "text = text.replace('\\“', '\\\"')\n",
    "text = text.replace('[', 'I')"
   ]
  },
  {
   "cell_type": "code",
   "execution_count": 11,
   "metadata": {},
   "outputs": [],
   "source": [
    "# Click on type racer's typing box\n",
    "text_box_center = pyautogui.center(typing_box)\n",
    "coordx, coordy = text_box_center\n",
    "pyautogui.click(coordx, coordy)"
   ]
  },
  {
   "cell_type": "code",
   "execution_count": 3,
   "metadata": {},
   "outputs": [],
   "source": [
    "# Divide text in parts, return # of chunks and all start & end points\n",
    "num_chunks, start_points, speeds = set_up(text)"
   ]
  },
  {
   "cell_type": "code",
   "execution_count": 5,
   "metadata": {},
   "outputs": [],
   "source": [
    "# Initialize keyboard simulators\n",
    "keyboard = Controller()\n",
    "time.sleep(2)\n",
    "\n",
    "\n",
    "# Override speeds\n",
    "speeds = [0.06, 0.04, 0.05, 0.07, 0.06, 0.05, 0.04, 0.03, 0.08, 0.1 , 0.07, 0.08, 0.04, 0.05]\n",
    "\n",
    "# Iterate through each of the chunks to type stuff at slightly different speeds\n",
    "for counter, item in enumerate(start_points):\n",
    "    # Choose a random speed\n",
    "    random_speed = speeds[counter]\n",
    "    \n",
    "    # Type each of the chunks of text at chosen speed\n",
    "    if counter + 1 < len(start_points):\n",
    "        start = int(item)\n",
    "        end = start_points[counter + 1]\n",
    "        to_be_typed = text[start:end]\n",
    "        if char == rand.randint(5,60):\n",
    "            keyboard.press('Backspace')\n",
    "        for char in to_be_typed:\n",
    "            keyboard.press(char)\n",
    "            keyboard.release(char)\n",
    "            time.sleep(random_speed)\n"
   ]
  },
  {
   "cell_type": "code",
   "execution_count": 9,
   "metadata": {},
   "outputs": [
    {
     "data": {
      "text/plain": [
       "47"
      ]
     },
     "execution_count": 9,
     "metadata": {},
     "output_type": "execute_result"
    }
   ],
   "source": [
    "random.randint(5,60)"
   ]
  },
  {
   "cell_type": "code",
   "execution_count": 6,
   "metadata": {},
   "outputs": [
    {
     "data": {
      "text/plain": [
       "\"Therefore the skillful leader subdues the enemy's troops without any fighting; he captures their cities without laying siege to them; he overthrows their kingdom without lengthy operations in the field\""
      ]
     },
     "execution_count": 6,
     "metadata": {},
     "output_type": "execute_result"
    }
   ],
   "source": [
    "text"
   ]
  },
  {
   "cell_type": "code",
   "execution_count": null,
   "metadata": {},
   "outputs": [],
   "source": []
  }
 ],
 "metadata": {
  "kernelspec": {
   "display_name": "Tesseract",
   "language": "python",
   "name": "tesseract"
  },
  "language_info": {
   "codemirror_mode": {
    "name": "ipython",
    "version": 3
   },
   "file_extension": ".py",
   "mimetype": "text/x-python",
   "name": "python",
   "nbconvert_exporter": "python",
   "pygments_lexer": "ipython3",
   "version": "3.6.10"
  }
 },
 "nbformat": 4,
 "nbformat_minor": 4
}
