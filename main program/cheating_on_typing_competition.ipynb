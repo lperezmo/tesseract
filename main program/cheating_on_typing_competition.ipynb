{
 "cells": [
  {
   "cell_type": "markdown",
   "metadata": {},
   "source": [
    "# Project Tesseract - Cheating on typing tests using image-recognition"
   ]
  },
  {
   "cell_type": "code",
   "execution_count": 1,
   "metadata": {},
   "outputs": [],
   "source": [
    "import cv2\n",
    "import pytesseract\n",
    "from pynput.keyboard import Key, Controller\n",
    "import time\n",
    "from webbot import Browser \n",
    "import pyautogui\n",
    "import tkinter as tk\n",
    "import pyautogui\n",
    "\n",
    "pytesseract.pytesseract.tesseract_cmd = r'C:\\\\Program Files\\\\Tesseract-OCR\\\\tesseract.exe'"
   ]
  },
  {
   "cell_type": "markdown",
   "metadata": {},
   "source": [
    "## Image-to-text using `Tesseract`"
   ]
  },
  {
   "cell_type": "code",
   "execution_count": 21,
   "metadata": {},
   "outputs": [],
   "source": [
    "img = cv2.imread('screenshots/cheating_test_1.PNG')\n",
    "text = pytesseract.image_to_string(img)"
   ]
  },
  {
   "cell_type": "code",
   "execution_count": 22,
   "metadata": {},
   "outputs": [
    {
     "data": {
      "text/plain": [
       "'((( BREAKING NEWS )))'"
      ]
     },
     "execution_count": 22,
     "metadata": {},
     "output_type": "execute_result"
    }
   ],
   "source": [
    "# New addition here, this replaces any new line \n",
    "#indicators for a simple space\n",
    "text = text.replace('\\n', ' ')\n",
    "text"
   ]
  },
  {
   "cell_type": "markdown",
   "metadata": {},
   "source": [
    "## Simulating typing using `pynput`"
   ]
  },
  {
   "cell_type": "code",
   "execution_count": 23,
   "metadata": {},
   "outputs": [],
   "source": [
    "keyboard = Controller()\n",
    "time.sleep(2)\n",
    "\n",
    "for char in \"This is a stupid test sentence\":\n",
    "    keyboard.press(char)\n",
    "    keyboard.release(char)\n",
    "    time.sleep(0.002)"
   ]
  },
  {
   "cell_type": "markdown",
   "metadata": {},
   "source": [
    "## Taking a screeshot of text prompt using `pyautogui`"
   ]
  },
  {
   "cell_type": "code",
   "execution_count": null,
   "metadata": {},
   "outputs": [],
   "source": [
    "# This takes a screenshot of entire screen\n",
    "# Add `region` parameter to select the part of the screen you want\n",
    "whole_screen = pyautogui.screenshot()\n",
    "whole_screen.save(r'screenshots/01.png')"
   ]
  },
  {
   "cell_type": "markdown",
   "metadata": {},
   "source": [
    "### Starting a race once you're in https://play.typeracer.com/"
   ]
  },
  {
   "cell_type": "code",
   "execution_count": 199,
   "metadata": {},
   "outputs": [],
   "source": [
    "start_link = pyautogui.locateOnScreen('screenshots/start_link.PNG')\n",
    "start_link_center = pyautogui.center(start_link)\n",
    "coordx, coordy = start_link_center\n",
    "\n",
    "pyautogui.click(coordx, coordy)"
   ]
  },
  {
   "cell_type": "markdown",
   "metadata": {},
   "source": [
    "# Start here if you're already in the page"
   ]
  },
  {
   "cell_type": "markdown",
   "metadata": {},
   "source": [
    "### Locating the text box, taking screenshot, and saving image as \"text.png\""
   ]
  },
  {
   "cell_type": "code",
   "execution_count": 3,
   "metadata": {},
   "outputs": [
    {
     "ename": "NameError",
     "evalue": "name 'top_limit' is not defined",
     "output_type": "error",
     "traceback": [
      "\u001b[1;31m---------------------------------------------------------------------------\u001b[0m",
      "\u001b[1;31mNameError\u001b[0m                                 Traceback (most recent call last)",
      "\u001b[1;32m<ipython-input-3-4983d1e70243>\u001b[0m in \u001b[0;36m<module>\u001b[1;34m\u001b[0m\n\u001b[0;32m     11\u001b[0m     \u001b[0mtyping_box\u001b[0m \u001b[1;33m=\u001b[0m \u001b[0mpyautogui\u001b[0m\u001b[1;33m.\u001b[0m\u001b[0mlocateOnScreen\u001b[0m\u001b[1;33m(\u001b[0m\u001b[1;34m'screenshots/type_box_v2.PNG'\u001b[0m\u001b[1;33m)\u001b[0m\u001b[1;33m\u001b[0m\u001b[1;33m\u001b[0m\u001b[0m\n\u001b[0;32m     12\u001b[0m \u001b[1;33m\u001b[0m\u001b[0m\n\u001b[1;32m---> 13\u001b[1;33m \u001b[0mprint\u001b[0m\u001b[1;33m(\u001b[0m\u001b[0mtop_limit\u001b[0m\u001b[1;33m,\u001b[0m \u001b[0mtyping_box\u001b[0m\u001b[1;33m)\u001b[0m\u001b[1;33m\u001b[0m\u001b[1;33m\u001b[0m\u001b[0m\n\u001b[0m\u001b[0;32m     14\u001b[0m \u001b[1;33m\u001b[0m\u001b[0m\n\u001b[0;32m     15\u001b[0m \u001b[1;31m# Calculate coordinates of screenshot\u001b[0m\u001b[1;33m\u001b[0m\u001b[1;33m\u001b[0m\u001b[1;33m\u001b[0m\u001b[0m\n",
      "\u001b[1;31mNameError\u001b[0m: name 'top_limit' is not defined"
     ]
    }
   ],
   "source": [
    "# Fixing location, adding a \"top\" limit\n",
    "if pyautogui.locateOnScreen('screenshots/top_of_the_text_box_v2.PNG'):\n",
    "    top_limit = pyautogui.locateOnScreen('screenshots/top_of_the_text_box_v2.PNG')\n",
    "elif pyautogui.locateOnScreen('screenshots/top_of_the_text_box_v3.PNG'):\n",
    "    top_limit = pyautogui.locateOnScreen('screenshots/top_of_the_text_box_v3.PNG')\n",
    "\n",
    "# Finding typing box\n",
    "if pyautogui.locateOnScreen('screenshots/box3.PNG'):\n",
    "    typing_box = pyautogui.locateOnScreen('screenshots/box3.PNG')\n",
    "elif pyautogui.locateOnScreen('screenshots/type_box_v2.PNG'):\n",
    "    typing_box = pyautogui.locateOnScreen('screenshots/type_box_v2.PNG')\n",
    "\n",
    "print(top_limit, typing_box)\n",
    "\n",
    "# Calculate coordinates of screenshot\n",
    "new_left = typing_box[0]\n",
    "new_top = top_limit[1] + 10\n",
    "new_width = typing_box[2]\n",
    "new_height = typing_box[1] - top_limit[1] - 15\n",
    "\n",
    "good_coords = [new_left, new_top, new_width, new_height]\n",
    "\n",
    "# Take screenshot\n",
    "image_text = pyautogui.screenshot(region=good_coords)\n",
    "image_text.save(r'screenshots/good_coords.png')\n",
    "print('\\n Done.')"
   ]
  },
  {
   "cell_type": "markdown",
   "metadata": {},
   "source": [
    "### Reading the text from the image using `Tesseract`"
   ]
  },
  {
   "cell_type": "code",
   "execution_count": 210,
   "metadata": {},
   "outputs": [
    {
     "data": {
      "text/plain": [
       "'Morphic resonance is a process whereby self-organising systems inherit a memory from previous similar systems. In its most general formulation, morphic resonance means that the so-called laws of nature are more like habits. The hypothesis of morphic resonance also leads to a radically new interpretation of memory storage in the brain and of biological inheritance.'"
      ]
     },
     "execution_count": 210,
     "metadata": {},
     "output_type": "execute_result"
    }
   ],
   "source": [
    "img = cv2.imread('screenshots/good_coords.png')\n",
    "\n",
    "# custom_config = r'-l eng'\n",
    "text = pytesseract.image_to_string(img)\n",
    "text = text.replace('\\n', ' ')\n",
    "text = text.replace('|', 'I')\n",
    "text = text.replace('’', '\\'')\n",
    "text = text.replace('‘', '')\n",
    "\n",
    "# text = text.replace('\\'', '\\\\\\'')\n",
    "\n",
    "# text = text.replace('I\\'l', 'I\\'ll')\n",
    "# text = text.replace('\\\"', '\\\\\\\"')\n",
    "# text = text.replace('\\\\\\\\','\\\\' )\n",
    "\n",
    "text"
   ]
  },
  {
   "cell_type": "code",
   "execution_count": 174,
   "metadata": {},
   "outputs": [],
   "source": []
  },
  {
   "cell_type": "markdown",
   "metadata": {},
   "source": [
    "### Using `pynput` to type the string into the text box"
   ]
  },
  {
   "cell_type": "code",
   "execution_count": 211,
   "metadata": {},
   "outputs": [
    {
     "name": "stdout",
     "output_type": "stream",
     "text": [
      "Done\n"
     ]
    }
   ],
   "source": [
    "text_box_center = pyautogui.center(typing_box)\n",
    "coordx, coordy = text_box_center\n",
    "pyautogui.click(coordx, coordy)\n",
    "\n",
    "keyboard = Controller()\n",
    "# time.sleep(3)\n",
    "\n",
    "for counter, char in enumerate(text):\n",
    "    if counter < len(text) - 1:\n",
    "        keyboard.press(char)\n",
    "        keyboard.release(char)\n",
    "        time.sleep(0.03)\n",
    "    else:\n",
    "        print('Done')"
   ]
  },
  {
   "cell_type": "code",
   "execution_count": null,
   "metadata": {},
   "outputs": [],
   "source": []
  },
  {
   "cell_type": "raw",
   "metadata": {},
   "source": [
    "<a href=\"https://data.typeracer.com/pit/profile?user=notluisatharmslab&ref=badge\" target=\"_top\"><img src=\"https://data.typeracer.com/misc/badge?user=notluisatharmslab\" border=\"0\" alt=\"TypeRacer.com scorecard for user notluisatharmslab\"/></a>"
   ]
  },
  {
   "cell_type": "raw",
   "metadata": {},
   "source": [
    "Banners that still work - to show off\n",
    "\n",
    "https://data.typeracer.com/misc/badge?user=notluisatharmslab\n",
    "\n",
    "<a href=\"https://data.typeracer.com/pit/profile?user=notluisatharmslab&ref=badge\" target=\"_top\"><img src=\"https://data.typeracer.com/misc/badge?user=notluisatharmslab\" border=\"0\" alt=\"TypeRacer.com scorecard for user notluisatharmslab\"/></a>\n"
   ]
  },
  {
   "cell_type": "markdown",
   "metadata": {},
   "source": [
    "### Cheating the Typing Challenge (anti-cheat box)"
   ]
  },
  {
   "cell_type": "code",
   "execution_count": 118,
   "metadata": {},
   "outputs": [
    {
     "name": "stdout",
     "output_type": "stream",
     "text": [
      "Box(left=145, top=384, width=423, height=44) Box(left=144, top=572, width=424, height=54) Box(left=498, top=670, width=67, height=32)\n"
     ]
    }
   ],
   "source": [
    "# Fixing location, adding a \"top\" limit\n",
    "top_limit = pyautogui.locateOnScreen('screenshots/typing_challenge_top_v3.PNG')\n",
    "\n",
    "# Finding bottom limit (i.e. typing box)\n",
    "bottom_limit = pyautogui.locateOnScreen('screenshots/typing_challenge_bottom_v5.PNG')\n",
    "\n",
    "# Find submit button\n",
    "submit_button = pyautogui.locateOnScreen('screenshots/submit_v4.PNG')\n",
    "\n",
    "print(top_limit, bottom_limit, submit_button)"
   ]
  },
  {
   "cell_type": "code",
   "execution_count": 131,
   "metadata": {},
   "outputs": [
    {
     "name": "stdout",
     "output_type": "stream",
     "text": [
      "[145, 424, 423, 158]\n",
      "\n",
      " Done.\n"
     ]
    }
   ],
   "source": [
    "# Calculate coordinates of screenshot\n",
    "new_left = top_limit[0]\n",
    "new_top = top_limit[1] + 40\n",
    "new_width = top_limit[2]\n",
    "new_height =  bottom_limit[1] - top_limit[1] - 30\n",
    "\n",
    "good_coords = [new_left, new_top, new_width, new_height]\n",
    "print(good_coords)\n",
    "\n",
    "# Taking screenshot of image text\n",
    "image_text = pyautogui.screenshot(region=good_coords)\n",
    "image_text.save(r'screenshots/text_of_typing_challenge.png')\n",
    "print('\\n Done.')\n",
    "\n",
    "img = cv2.imread('screenshots/text_of_typing_challenge.png')"
   ]
  },
  {
   "cell_type": "code",
   "execution_count": 146,
   "metadata": {},
   "outputs": [
    {
     "data": {
      "text/plain": [
       "'\\\\As she said to herself, as she yar oa on  Vemenhpr the simple and loving  Meat St ber Wile Geiars Urea, whenever I eat'"
      ]
     },
     "execution_count": 146,
     "metadata": {},
     "output_type": "execute_result"
    }
   ],
   "source": [
    "# Custom config to recognize as much text\n",
    "# as possible in no particular order\n",
    "custom_config = r'-l eng --oem 0 --psm 9'\n",
    "text = pytesseract.image_to_string(img)\n",
    "text = text.replace('\\n', ' ')\n",
    "text = text.replace('|', 'I')\n",
    "text = text.replace('I\\'', 'I\\'')\n",
    "# text = text.replace('\\\"', '\\\\\\\"')\n",
    "# text = text.replace('\\\\\\\\','\\\\' )\n",
    "\n",
    "text"
   ]
  },
  {
   "cell_type": "code",
   "execution_count": 40,
   "metadata": {},
   "outputs": [],
   "source": []
  },
  {
   "cell_type": "code",
   "execution_count": 92,
   "metadata": {},
   "outputs": [],
   "source": [
    "# Click on the typing box\n",
    "text_box_center = pyautogui.center(bottom_limit)\n",
    "coordx, coordy = text_box_center\n",
    "pyautogui.click(coordx, coordy)\n",
    "\n",
    "keyboard = Controller()\n",
    "# time.sleep(2)\n",
    "\n",
    "for counter, char in enumerate(text):\n",
    "        keyboard.press(char)\n",
    "        keyboard.release(char)\n",
    "        time.sleep(0.01)\n",
    "        \n",
    "# Click on the submit button\n",
    "text_box_center = pyautogui.center(submit_button)\n",
    "coordx, coordy = text_box_center\n",
    "pyautogui.click(coordx, coordy)"
   ]
  },
  {
   "cell_type": "code",
   "execution_count": 588,
   "metadata": {},
   "outputs": [],
   "source": [
    "text = 'Just then she semembered how small she was and she tried hard; but she did it at last, and'"
   ]
  },
  {
   "cell_type": "code",
   "execution_count": 115,
   "metadata": {},
   "outputs": [],
   "source": [
    "def challenge(n):\n",
    "    if n == 1:\n",
    "        text = \"As she said to herself, as she ran. This question the Dodo could not remember the simple and loving heart of her little sister's dream. whenever I eat\"\n",
    "    if n == 2:\n",
    "        text = 'Just then she semembered how small she was and she tried hard; but she did it at last, and'\n",
    "    if n == 3:\n",
    "        pass"
   ]
  },
  {
   "cell_type": "code",
   "execution_count": 117,
   "metadata": {},
   "outputs": [
    {
     "data": {
      "text/plain": [
       "'It\\'s the same thing your whole life: \"Clean up your room. Stand up straight. Pick up your feet. Take it like a man. Be nice to your sister. Don\\'t mix beer and wine, ever.\" Oh yeah: \"Don\\'t drive on the railroad track.\"'"
      ]
     },
     "execution_count": 117,
     "metadata": {},
     "output_type": "execute_result"
    }
   ],
   "source": [
    "challenge(2)\n",
    "text"
   ]
  },
  {
   "cell_type": "markdown",
   "metadata": {},
   "source": [
    "# Control is an Illusion"
   ]
  },
  {
   "cell_type": "code",
   "execution_count": 446,
   "metadata": {},
   "outputs": [],
   "source": [
    "custom_config = r'-l eng'"
   ]
  },
  {
   "cell_type": "code",
   "execution_count": 447,
   "metadata": {},
   "outputs": [],
   "source": [
    "img = cv2.imread('screenshots/bitcoin.png')\n",
    "text = pytesseract.image_to_string(img, config=custom_config)\n",
    "# text = text.replace('\\‘', '')\n",
    "# text = text.replace('\\n', ' ')\n",
    "# text = text.replace('|', 'I')\n",
    "# # text = text.replace('I\\'', 'I\\'')\n",
    "# text = text.replace('\\\"', '\\\\\\\"')\n"
   ]
  },
  {
   "cell_type": "code",
   "execution_count": 448,
   "metadata": {},
   "outputs": [],
   "source": [
    "keyboard = Controller()\n",
    "time.sleep(3)\n",
    "\n",
    "for counter, char in enumerate(text):\n",
    "        keyboard.press(char)\n",
    "        keyboard.release(char)\n",
    "        time.sleep(0.001)"
   ]
  },
  {
   "cell_type": "raw",
   "metadata": {
    "jupyter": {
     "source_hidden": true
    }
   },
   "source": [
    "typing_challenge = pyautogui.locateOnScreen('screenshots/top_of_challenge.PNG')\n",
    "typing_challenge\n",
    "\n",
    "typing_challenge_box = pyautogui.locateOnScreen('screenshots/typing_challenge_box.PNG')\n",
    "typing_challenge_submit = pyautogui.locateOnScreen('screenshots/typing_challenge_submit.PNG')\n",
    "print(typing_challenge_box, typing_challenge_submit)\n",
    "\n",
    "shift_in_coordinates = [0,20,0,180]\n",
    "new_location = list(typing_challenge)\n",
    "old_location = list(typing_challenge)\n",
    "\n",
    "for counter, item in enumerate(new_location):\n",
    "    new_location[counter] = item + shift_in_coordinates[counter]\n",
    "\n",
    "print(old_location, new_location)\n",
    "\n"
   ]
  },
  {
   "cell_type": "code",
   "execution_count": null,
   "metadata": {},
   "outputs": [],
   "source": []
  }
 ],
 "metadata": {
  "kernelspec": {
   "display_name": "Tesseract",
   "language": "python",
   "name": "tesseract"
  },
  "language_info": {
   "codemirror_mode": {
    "name": "ipython",
    "version": 3
   },
   "file_extension": ".py",
   "mimetype": "text/x-python",
   "name": "python",
   "nbconvert_exporter": "python",
   "pygments_lexer": "ipython3",
   "version": "3.6.10"
  },
  "toc-autonumbering": false
 },
 "nbformat": 4,
 "nbformat_minor": 4
}
